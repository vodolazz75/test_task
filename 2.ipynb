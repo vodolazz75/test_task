{
 "cells": [
  {
   "cell_type": "code",
   "execution_count": 1,
   "metadata": {},
   "outputs": [],
   "source": [
    "from retentioneering import init_config\n",
    "import pandas as pd\n",
    "import numpy as np\n",
    "from matplotlib import pyplot as plt\n",
    "import warnings\n",
    "warnings.filterwarnings('ignore')"
   ]
  },
  {
   "cell_type": "code",
   "execution_count": 2,
   "metadata": {},
   "outputs": [],
   "source": [
    "df = pd.read_csv('C:/Users/oxana/Documents/Test_task/test2.gz', compression='gzip')"
   ]
  },
  {
   "cell_type": "code",
   "execution_count": 3,
   "metadata": {},
   "outputs": [
    {
     "data": {
      "text/html": [
       "<div>\n",
       "<style scoped>\n",
       "    .dataframe tbody tr th:only-of-type {\n",
       "        vertical-align: middle;\n",
       "    }\n",
       "\n",
       "    .dataframe tbody tr th {\n",
       "        vertical-align: top;\n",
       "    }\n",
       "\n",
       "    .dataframe thead th {\n",
       "        text-align: right;\n",
       "    }\n",
       "</style>\n",
       "<table border=\"1\" class=\"dataframe\">\n",
       "  <thead>\n",
       "    <tr style=\"text-align: right;\">\n",
       "      <th></th>\n",
       "      <th>event_timestamp</th>\n",
       "      <th>current_path</th>\n",
       "      <th>next_path</th>\n",
       "      <th>user_id</th>\n",
       "      <th>browser</th>\n",
       "      <th>os</th>\n",
       "      <th>session</th>\n",
       "      <th>mapped_event</th>\n",
       "      <th>utm_source</th>\n",
       "      <th>utm_medium</th>\n",
       "    </tr>\n",
       "  </thead>\n",
       "  <tbody>\n",
       "    <tr>\n",
       "      <th>0</th>\n",
       "      <td>2020-07-07 14:55:07</td>\n",
       "      <td>/catalog/phone/225/apple/iphone-6s-plus/6s-plu...</td>\n",
       "      <td>NaN</td>\n",
       "      <td>000019de-e3c2-4af0-8e0c-979b0d5b63cd</td>\n",
       "      <td>Chrome</td>\n",
       "      <td>Windows</td>\n",
       "      <td>0.0</td>\n",
       "      <td>session_start</td>\n",
       "      <td>NaN</td>\n",
       "      <td>NaN</td>\n",
       "    </tr>\n",
       "    <tr>\n",
       "      <th>1</th>\n",
       "      <td>2020-07-07 14:55:08</td>\n",
       "      <td>/catalog/phone/225/apple/iphone-6s-plus/6s-plu...</td>\n",
       "      <td>NaN</td>\n",
       "      <td>000019de-e3c2-4af0-8e0c-979b0d5b63cd</td>\n",
       "      <td>Chrome</td>\n",
       "      <td>Windows</td>\n",
       "      <td>0.0</td>\n",
       "      <td>catalog_page</td>\n",
       "      <td>NaN</td>\n",
       "      <td>NaN</td>\n",
       "    </tr>\n",
       "    <tr>\n",
       "      <th>2</th>\n",
       "      <td>2020-07-07 14:55:09</td>\n",
       "      <td>/catalog/phone/225/apple/iphone-6s-plus/6s-plu...</td>\n",
       "      <td>NaN</td>\n",
       "      <td>000019de-e3c2-4af0-8e0c-979b0d5b63cd</td>\n",
       "      <td>Chrome</td>\n",
       "      <td>Windows</td>\n",
       "      <td>0.0</td>\n",
       "      <td>lost</td>\n",
       "      <td>NaN</td>\n",
       "      <td>NaN</td>\n",
       "    </tr>\n",
       "    <tr>\n",
       "      <th>3</th>\n",
       "      <td>2020-06-20 17:13:51</td>\n",
       "      <td>/catalog/other/10691/5391503</td>\n",
       "      <td>NaN</td>\n",
       "      <td>00009a1c-69ad-4bbf-81e0-75dad05075b5</td>\n",
       "      <td>Mobile Safari</td>\n",
       "      <td>iOS</td>\n",
       "      <td>1.0</td>\n",
       "      <td>session_start</td>\n",
       "      <td>NaN</td>\n",
       "      <td>NaN</td>\n",
       "    </tr>\n",
       "    <tr>\n",
       "      <th>4</th>\n",
       "      <td>2020-06-20 17:13:52</td>\n",
       "      <td>/catalog/other/10691/5391503</td>\n",
       "      <td>NaN</td>\n",
       "      <td>00009a1c-69ad-4bbf-81e0-75dad05075b5</td>\n",
       "      <td>Mobile Safari</td>\n",
       "      <td>iOS</td>\n",
       "      <td>1.0</td>\n",
       "      <td>OpenProductPage</td>\n",
       "      <td>NaN</td>\n",
       "      <td>NaN</td>\n",
       "    </tr>\n",
       "  </tbody>\n",
       "</table>\n",
       "</div>"
      ],
      "text/plain": [
       "       event_timestamp                                       current_path  \\\n",
       "0  2020-07-07 14:55:07  /catalog/phone/225/apple/iphone-6s-plus/6s-plu...   \n",
       "1  2020-07-07 14:55:08  /catalog/phone/225/apple/iphone-6s-plus/6s-plu...   \n",
       "2  2020-07-07 14:55:09  /catalog/phone/225/apple/iphone-6s-plus/6s-plu...   \n",
       "3  2020-06-20 17:13:51                       /catalog/other/10691/5391503   \n",
       "4  2020-06-20 17:13:52                       /catalog/other/10691/5391503   \n",
       "\n",
       "  next_path                               user_id        browser       os  \\\n",
       "0       NaN  000019de-e3c2-4af0-8e0c-979b0d5b63cd         Chrome  Windows   \n",
       "1       NaN  000019de-e3c2-4af0-8e0c-979b0d5b63cd         Chrome  Windows   \n",
       "2       NaN  000019de-e3c2-4af0-8e0c-979b0d5b63cd         Chrome  Windows   \n",
       "3       NaN  00009a1c-69ad-4bbf-81e0-75dad05075b5  Mobile Safari      iOS   \n",
       "4       NaN  00009a1c-69ad-4bbf-81e0-75dad05075b5  Mobile Safari      iOS   \n",
       "\n",
       "   session     mapped_event utm_source utm_medium  \n",
       "0      0.0    session_start        NaN        NaN  \n",
       "1      0.0     catalog_page        NaN        NaN  \n",
       "2      0.0             lost        NaN        NaN  \n",
       "3      1.0    session_start        NaN        NaN  \n",
       "4      1.0  OpenProductPage        NaN        NaN  "
      ]
     },
     "execution_count": 3,
     "metadata": {},
     "output_type": "execute_result"
    }
   ],
   "source": [
    "df.head()"
   ]
  },
  {
   "cell_type": "markdown",
   "metadata": {},
   "source": [
    "Описание датасета:   \n",
    "- event_timestamp - серверное время     \n",
    "- current_path - адрес страницы, на которой находится пользователь   \n",
    "- next_path - адрес страницы на которую переходит пользователь   \n",
    "- user_id - id пользователя     \n",
    "- session - номер сессии   \n",
    "- os - операционная система   \n",
    "- browser - браузер     \n",
    "- mapped_event - размеченное событие:    \n",
    "   - *session_start - добавляется в начало сессии за секунду до первого события*   \n",
    "   - *pass - оформление заказа*   \n",
    "   - *lost - добавляется через секунду после самого последнего события*   \n",
    "   - *session_end - добавляется в конце сессии, если это не последняя сессия пользователя через секунду после последнего события в сессии*   \n",
    "   - *catalog_page - открытие страницы каталога*   \n",
    "   - *OpenProductPage - открытие страницы продукта*   \n",
    "   - *main_page - главная страница*    \n",
    "   - *cart_page - страница корзины*   \n",
    "   - *search_result_page - страница результатов поиска*   \n",
    "   - *AddTo_Cart - добавление в корзину*   \n",
    "- utm_source, utm_medium - параметры UTM"
   ]
  },
  {
   "cell_type": "code",
   "execution_count": 4,
   "metadata": {},
   "outputs": [],
   "source": [
    "df['event_timestamp'] = pd.to_datetime(df['event_timestamp'], format='%Y-%m-%d %H:%M:%S')"
   ]
  },
  {
   "cell_type": "code",
   "execution_count": 5,
   "metadata": {},
   "outputs": [],
   "source": [
    "init_config(\n",
    "    experiments_folder='experiments', \n",
    "    index_col='user_id', \n",
    "    event_col='mapped_event', \n",
    "    event_time_col='event_timestamp', \n",
    "    positive_target_event='passed', \n",
    "    negative_target_event='lost', \n",
    "    pos_target_definition={'time_limit': 600},\n",
    "    neg_target_definition={})"
   ]
  },
  {
   "cell_type": "code",
   "execution_count": 6,
   "metadata": {},
   "outputs": [],
   "source": [
    "df = df.retention.prepare()"
   ]
  },
  {
   "cell_type": "code",
   "execution_count": 7,
   "metadata": {},
   "outputs": [
    {
     "name": "stdout",
     "output_type": "stream",
     "text": [
      "pos events: 275242\n"
     ]
    }
   ],
   "source": [
    "print('pos events:', len(df[df['mapped_event'] == 'passed']))"
   ]
  },
  {
   "cell_type": "code",
   "execution_count": 8,
   "metadata": {},
   "outputs": [
    {
     "name": "stdout",
     "output_type": "stream",
     "text": [
      "Количество рекламных каналов: 213\n"
     ]
    }
   ],
   "source": [
    "print('Количество рекламных каналов:', df['utm_source'].nunique())"
   ]
  },
  {
   "cell_type": "code",
   "execution_count": 9,
   "metadata": {},
   "outputs": [
    {
     "data": {
      "text/plain": [
       "yandex           379137\n",
       "yandexmarket      41822\n",
       "cpamit            40552\n",
       "promo             35224\n",
       "flocktory         12792\n",
       "trigger           11659\n",
       "gdeslon            9639\n",
       "sberbank           6267\n",
       "nadavi_moscow      6181\n",
       "actionpay          5862\n",
       "Name: utm_source, dtype: int64"
      ]
     },
     "execution_count": 9,
     "metadata": {},
     "output_type": "execute_result"
    }
   ],
   "source": [
    "df['utm_source'].value_counts().head(10)"
   ]
  },
  {
   "cell_type": "markdown",
   "metadata": {},
   "source": [
    "Топ 10 РК по привлечению клиентов"
   ]
  },
  {
   "cell_type": "markdown",
   "metadata": {},
   "source": [
    "Посмотрим на клиентов, пришедших через РК Сбербанк"
   ]
  },
  {
   "cell_type": "code",
   "execution_count": 10,
   "metadata": {},
   "outputs": [
    {
     "data": {
      "text/plain": [
       "array([0, 1, 1, ..., 2, 1, 2])"
      ]
     },
     "execution_count": 10,
     "metadata": {},
     "output_type": "execute_result"
    },
    {
     "data": {
      "image/png": "[encoded data removed]",
      "text/plain": [
       "<Figure size 432x288 with 1 Axes>"
      ]
     },
     "metadata": {
      "needs_background": "light"
     },
     "output_type": "display_data"
    }
   ],
   "source": [
    "df.query('utm_source == \"sberbank\"').retention.get_clusters(method='simple_cluster', n_clusters=6, plot_type='cluster_bar', use_csi=False, refit_cluster=True)"
   ]
  },
  {
   "cell_type": "code",
   "execution_count": 11,
   "metadata": {},
   "outputs": [
    {
     "data": {
      "text/html": [
       "<div>\n",
       "<style scoped>\n",
       "    .dataframe tbody tr th:only-of-type {\n",
       "        vertical-align: middle;\n",
       "    }\n",
       "\n",
       "    .dataframe tbody tr th {\n",
       "        vertical-align: top;\n",
       "    }\n",
       "\n",
       "    .dataframe thead th {\n",
       "        text-align: right;\n",
       "    }\n",
       "</style>\n",
       "<table border=\"1\" class=\"dataframe\">\n",
       "  <thead>\n",
       "    <tr style=\"text-align: right;\">\n",
       "      <th></th>\n",
       "      <th>n</th>\n",
       "      <th>n - 1</th>\n",
       "      <th>n - 2</th>\n",
       "      <th>n - 3</th>\n",
       "    </tr>\n",
       "  </thead>\n",
       "  <tbody>\n",
       "    <tr>\n",
       "      <th>passed</th>\n",
       "      <td>1.0</td>\n",
       "      <td>0.0</td>\n",
       "      <td>0.000000</td>\n",
       "      <td>0.000000</td>\n",
       "    </tr>\n",
       "    <tr>\n",
       "      <th>lost</th>\n",
       "      <td>0.0</td>\n",
       "      <td>1.0</td>\n",
       "      <td>0.000000</td>\n",
       "      <td>0.000000</td>\n",
       "    </tr>\n",
       "    <tr>\n",
       "      <th>other_page</th>\n",
       "      <td>0.0</td>\n",
       "      <td>0.0</td>\n",
       "      <td>0.982857</td>\n",
       "      <td>0.225714</td>\n",
       "    </tr>\n",
       "    <tr>\n",
       "      <th>session_start</th>\n",
       "      <td>0.0</td>\n",
       "      <td>0.0</td>\n",
       "      <td>0.012857</td>\n",
       "      <td>0.715714</td>\n",
       "    </tr>\n",
       "    <tr>\n",
       "      <th>Click_Search</th>\n",
       "      <td>0.0</td>\n",
       "      <td>0.0</td>\n",
       "      <td>0.001429</td>\n",
       "      <td>0.011429</td>\n",
       "    </tr>\n",
       "    <tr>\n",
       "      <th>Click_PersonalArea</th>\n",
       "      <td>0.0</td>\n",
       "      <td>0.0</td>\n",
       "      <td>0.001429</td>\n",
       "      <td>0.001429</td>\n",
       "    </tr>\n",
       "    <tr>\n",
       "      <th>Click_Catalog_Header_Wrap</th>\n",
       "      <td>0.0</td>\n",
       "      <td>0.0</td>\n",
       "      <td>0.000000</td>\n",
       "      <td>0.007143</td>\n",
       "    </tr>\n",
       "    <tr>\n",
       "      <th>GoTo_Cart</th>\n",
       "      <td>0.0</td>\n",
       "      <td>0.0</td>\n",
       "      <td>0.000000</td>\n",
       "      <td>0.004286</td>\n",
       "    </tr>\n",
       "    <tr>\n",
       "      <th>Click_Catalog_Breadcrumbs</th>\n",
       "      <td>0.0</td>\n",
       "      <td>0.0</td>\n",
       "      <td>0.001429</td>\n",
       "      <td>0.002857</td>\n",
       "    </tr>\n",
       "    <tr>\n",
       "      <th>session_end</th>\n",
       "      <td>0.0</td>\n",
       "      <td>0.0</td>\n",
       "      <td>0.000000</td>\n",
       "      <td>0.004286</td>\n",
       "    </tr>\n",
       "  </tbody>\n",
       "</table>\n",
       "</div>"
      ],
      "text/plain": [
       "                             n  n - 1     n - 2     n - 3\n",
       "passed                     1.0    0.0  0.000000  0.000000\n",
       "lost                       0.0    1.0  0.000000  0.000000\n",
       "other_page                 0.0    0.0  0.982857  0.225714\n",
       "session_start              0.0    0.0  0.012857  0.715714\n",
       "Click_Search               0.0    0.0  0.001429  0.011429\n",
       "Click_PersonalArea         0.0    0.0  0.001429  0.001429\n",
       "Click_Catalog_Header_Wrap  0.0    0.0  0.000000  0.007143\n",
       "GoTo_Cart                  0.0    0.0  0.000000  0.004286\n",
       "Click_Catalog_Breadcrumbs  0.0    0.0  0.001429  0.002857\n",
       "session_end                0.0    0.0  0.000000  0.004286"
      ]
     },
     "execution_count": 11,
     "metadata": {},
     "output_type": "execute_result"
    },
    {
     "data": {
      "image/png": "[encoded data removed]",
      "text/plain": [
       "<Figure size 1159.76x635.117 with 2 Axes>"
      ]
     },
     "metadata": {
      "needs_background": "light"
     },
     "output_type": "display_data"
    }
   ],
   "source": [
    "df.query('utm_source == \"sberbank\"').retention.get_step_matrix(max_steps=4, reverse = 'pos')"
   ]
  },
  {
   "cell_type": "code",
   "execution_count": 12,
   "metadata": {},
   "outputs": [
    {
     "data": {
      "text/html": [
       "<div>\n",
       "<style scoped>\n",
       "    .dataframe tbody tr th:only-of-type {\n",
       "        vertical-align: middle;\n",
       "    }\n",
       "\n",
       "    .dataframe tbody tr th {\n",
       "        vertical-align: top;\n",
       "    }\n",
       "\n",
       "    .dataframe thead th {\n",
       "        text-align: right;\n",
       "    }\n",
       "</style>\n",
       "<table border=\"1\" class=\"dataframe\">\n",
       "  <thead>\n",
       "    <tr style=\"text-align: right;\">\n",
       "      <th></th>\n",
       "      <th>n</th>\n",
       "      <th>n - 1</th>\n",
       "      <th>n - 2</th>\n",
       "      <th>n - 3</th>\n",
       "    </tr>\n",
       "  </thead>\n",
       "  <tbody>\n",
       "    <tr>\n",
       "      <th>lost</th>\n",
       "      <td>1.0</td>\n",
       "      <td>0.000000</td>\n",
       "      <td>0.000000</td>\n",
       "      <td>0.000000</td>\n",
       "    </tr>\n",
       "    <tr>\n",
       "      <th>other_page</th>\n",
       "      <td>0.0</td>\n",
       "      <td>0.982857</td>\n",
       "      <td>0.225714</td>\n",
       "      <td>0.080000</td>\n",
       "    </tr>\n",
       "    <tr>\n",
       "      <th>session_start</th>\n",
       "      <td>0.0</td>\n",
       "      <td>0.012857</td>\n",
       "      <td>0.715714</td>\n",
       "      <td>0.160000</td>\n",
       "    </tr>\n",
       "    <tr>\n",
       "      <th>session_end</th>\n",
       "      <td>0.0</td>\n",
       "      <td>0.000000</td>\n",
       "      <td>0.004286</td>\n",
       "      <td>0.048571</td>\n",
       "    </tr>\n",
       "    <tr>\n",
       "      <th>Click_Search</th>\n",
       "      <td>0.0</td>\n",
       "      <td>0.001429</td>\n",
       "      <td>0.011429</td>\n",
       "      <td>0.002857</td>\n",
       "    </tr>\n",
       "    <tr>\n",
       "      <th>Click_PersonalArea</th>\n",
       "      <td>0.0</td>\n",
       "      <td>0.001429</td>\n",
       "      <td>0.001429</td>\n",
       "      <td>0.000000</td>\n",
       "    </tr>\n",
       "    <tr>\n",
       "      <th>Click_Catalog_Header_Wrap</th>\n",
       "      <td>0.0</td>\n",
       "      <td>0.000000</td>\n",
       "      <td>0.007143</td>\n",
       "      <td>0.004286</td>\n",
       "    </tr>\n",
       "    <tr>\n",
       "      <th>GoTo_Cart</th>\n",
       "      <td>0.0</td>\n",
       "      <td>0.000000</td>\n",
       "      <td>0.004286</td>\n",
       "      <td>0.001429</td>\n",
       "    </tr>\n",
       "    <tr>\n",
       "      <th>Click_Catalog_Breadcrumbs</th>\n",
       "      <td>0.0</td>\n",
       "      <td>0.001429</td>\n",
       "      <td>0.002857</td>\n",
       "      <td>0.002857</td>\n",
       "    </tr>\n",
       "  </tbody>\n",
       "</table>\n",
       "</div>"
      ],
      "text/plain": [
       "                             n     n - 1     n - 2     n - 3\n",
       "lost                       1.0  0.000000  0.000000  0.000000\n",
       "other_page                 0.0  0.982857  0.225714  0.080000\n",
       "session_start              0.0  0.012857  0.715714  0.160000\n",
       "session_end                0.0  0.000000  0.004286  0.048571\n",
       "Click_Search               0.0  0.001429  0.011429  0.002857\n",
       "Click_PersonalArea         0.0  0.001429  0.001429  0.000000\n",
       "Click_Catalog_Header_Wrap  0.0  0.000000  0.007143  0.004286\n",
       "GoTo_Cart                  0.0  0.000000  0.004286  0.001429\n",
       "Click_Catalog_Breadcrumbs  0.0  0.001429  0.002857  0.002857"
      ]
     },
     "execution_count": 12,
     "metadata": {},
     "output_type": "execute_result"
    },
    {
     "data": {
      "image/png": "[encoded data removed]",
      "text/plain": [
       "<Figure size 1159.76x635.117 with 2 Axes>"
      ]
     },
     "metadata": {
      "needs_background": "light"
     },
     "output_type": "display_data"
    }
   ],
   "source": [
    "df.query('utm_source == \"sberbank\"').retention.get_step_matrix(max_steps=4, reverse = 'neg')"
   ]
  }
 ],
 "metadata": {
  "kernelspec": {
   "display_name": "Python 3",
   "language": "python",
   "name": "python3"
  },
  "language_info": {
   "codemirror_mode": {
    "name": "ipython",
    "version": 3
   },
   "file_extension": ".py",
   "mimetype": "text/x-python",
   "name": "python",
   "nbconvert_exporter": "python",
   "pygments_lexer": "ipython3",
   "version": "3.8.4"
  }
 },
 "nbformat": 4,
 "nbformat_minor": 4
}
